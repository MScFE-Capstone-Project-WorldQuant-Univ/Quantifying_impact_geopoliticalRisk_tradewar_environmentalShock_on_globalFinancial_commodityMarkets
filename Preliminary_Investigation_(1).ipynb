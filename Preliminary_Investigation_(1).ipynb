{
  "cells": [
    {
      "cell_type": "markdown",
      "metadata": {
        "id": "view-in-github",
        "colab_type": "text"
      },
      "source": [
        "<a href=\"https://colab.research.google.com/github/MScFE-Capstone-Project-WorldQuant-Univ/Quantifying_impact_geopoliticalRisk_tradewar_environmentalShock_on_globalFinancial_commodityMarkets/blob/main/Preliminary_Investigation_(1).ipynb\" target=\"_parent\"><img src=\"https://colab.research.google.com/assets/colab-badge.svg\" alt=\"Open In Colab\"/></a>"
      ]
    },
    {
      "cell_type": "markdown",
      "metadata": {
        "id": "iOYBiA0c5RyH"
      },
      "source": [
        "Here, we carry out a preliminary investigation on our dataset. On the preliminary investigation, we perform the following analyses:\n",
        "\n",
        "1. Descriptive analysis\n",
        "2. Correlation analysis\n",
        "3. Trend analysis\n",
        "4. Stationarity test\n",
        "5. Cointegration test\n",
        "\n",
        "\n",
        "The trend analysis is to showcase the relationship between all independent variables with dependent variables."
      ]
    },
    {
      "cell_type": "code",
      "execution_count": 1,
      "metadata": {
        "id": "mXefsH7y4Iud"
      },
      "outputs": [],
      "source": [
        "import pandas as pd\n",
        "import matplotlib.pyplot as plt\n",
        "import matplotlib.dates as mdates\n",
        "from matplotlib.ticker import MaxNLocator\n",
        "import numpy as np\n"
      ]
    },
    {
      "cell_type": "markdown",
      "metadata": {
        "id": "Ggi52r7V5tg4"
      },
      "source": [
        "First of all, we import our datasets for our study. Below, we import our crude oil price index (WTI) from FRED."
      ]
    },
    {
      "cell_type": "code",
      "execution_count": 3,
      "metadata": {
        "colab": {
          "base_uri": "https://localhost:8080/"
        },
        "id": "U3xZmBcEjJJB",
        "outputId": "7c21e274-2002-432a-bec3-c056e5d22d4c"
      },
      "outputs": [
        {
          "output_type": "stream",
          "name": "stdout",
          "text": [
            "Requirement already satisfied: fredapi in /usr/local/lib/python3.11/dist-packages (0.5.2)\n",
            "Requirement already satisfied: pandas_datareader in /usr/local/lib/python3.11/dist-packages (0.10.0)\n",
            "Requirement already satisfied: pandas in /usr/local/lib/python3.11/dist-packages (from fredapi) (2.2.2)\n",
            "Requirement already satisfied: lxml in /usr/local/lib/python3.11/dist-packages (from pandas_datareader) (5.4.0)\n",
            "Requirement already satisfied: requests>=2.19.0 in /usr/local/lib/python3.11/dist-packages (from pandas_datareader) (2.32.3)\n",
            "Requirement already satisfied: numpy>=1.23.2 in /usr/local/lib/python3.11/dist-packages (from pandas->fredapi) (2.0.2)\n",
            "Requirement already satisfied: python-dateutil>=2.8.2 in /usr/local/lib/python3.11/dist-packages (from pandas->fredapi) (2.9.0.post0)\n",
            "Requirement already satisfied: pytz>=2020.1 in /usr/local/lib/python3.11/dist-packages (from pandas->fredapi) (2025.2)\n",
            "Requirement already satisfied: tzdata>=2022.7 in /usr/local/lib/python3.11/dist-packages (from pandas->fredapi) (2025.2)\n",
            "Requirement already satisfied: charset-normalizer<4,>=2 in /usr/local/lib/python3.11/dist-packages (from requests>=2.19.0->pandas_datareader) (3.4.1)\n",
            "Requirement already satisfied: idna<4,>=2.5 in /usr/local/lib/python3.11/dist-packages (from requests>=2.19.0->pandas_datareader) (3.10)\n",
            "Requirement already satisfied: urllib3<3,>=1.21.1 in /usr/local/lib/python3.11/dist-packages (from requests>=2.19.0->pandas_datareader) (2.4.0)\n",
            "Requirement already satisfied: certifi>=2017.4.17 in /usr/local/lib/python3.11/dist-packages (from requests>=2.19.0->pandas_datareader) (2025.4.26)\n",
            "Requirement already satisfied: six>=1.5 in /usr/local/lib/python3.11/dist-packages (from python-dateutil>=2.8.2->pandas->fredapi) (1.17.0)\n",
            "\n",
            "WTI Crude Oil monthly data:\n",
            "            DCOILWTICO\n",
            "DATE                  \n",
            "1990-01-31   22.863182\n",
            "1990-02-28   22.113000\n",
            "1990-03-31   20.387727\n",
            "1990-04-30   18.425500\n",
            "1990-05-31   18.199545\n"
          ]
        },
        {
          "output_type": "stream",
          "name": "stderr",
          "text": [
            "<ipython-input-3-5c146e82c84b>:22: FutureWarning: 'M' is deprecated and will be removed in a future version, please use 'ME' instead.\n",
            "  wti_monthly = wti_monthly.resample('M').mean()\n"
          ]
        }
      ],
      "source": [
        "# Install necessary libraries\n",
        "!pip install fredapi pandas_datareader\n",
        "\n",
        "import pandas as pd\n",
        "from pandas_datareader import data as pdr\n",
        "import datetime\n",
        "\n",
        "from fredapi import Fred\n",
        "key='3c9d0afae3809ea8bbe381f4a8112515'\n",
        "# Initiates a session with the FRED datacenter to recieve datasets\n",
        "fred = Fred(api_key=key)\n",
        "\n",
        "# Define date range\n",
        "start_date = '1990-01-01'\n",
        "end_date = '2024-12-31'\n",
        "\n",
        "# Download Crude Oil WTI monthly price from FRED\n",
        "# FRED Series ID for WTI crude oil: \"DCOILWTICO\"\n",
        "wti_monthly = pdr.DataReader('DCOILWTICO', 'fred', start_date, end_date)\n",
        "\n",
        "# Resample to monthly average (because oil prices might be daily)\n",
        "wti_monthly = wti_monthly.resample('M').mean()\n",
        "\n",
        "#Check the data\n",
        "print(\"\\nWTI Crude Oil monthly data:\")\n",
        "print(wti_monthly.head())\n",
        "\n",
        "# Save to CSV\n",
        "wti_monthly.to_csv('wti_monthly.csv')\n"
      ]
    },
    {
      "cell_type": "markdown",
      "metadata": {
        "id": "0DStleoi6IyP"
      },
      "source": [
        "Next, we import our Financial Markets data (S&P 500 Index) from Yahoo finance."
      ]
    },
    {
      "cell_type": "code",
      "execution_count": 4,
      "metadata": {
        "colab": {
          "base_uri": "https://localhost:8080/"
        },
        "id": "7K86BLL-2fwf",
        "outputId": "8d444c04-046d-4341-c1d0-380a62de0f5c"
      },
      "outputs": [
        {
          "output_type": "stream",
          "name": "stdout",
          "text": [
            "Requirement already satisfied: yfinance in /usr/local/lib/python3.11/dist-packages (0.2.57)\n",
            "Requirement already satisfied: pandas>=1.3.0 in /usr/local/lib/python3.11/dist-packages (from yfinance) (2.2.2)\n",
            "Requirement already satisfied: numpy>=1.16.5 in /usr/local/lib/python3.11/dist-packages (from yfinance) (2.0.2)\n",
            "Requirement already satisfied: requests>=2.31 in /usr/local/lib/python3.11/dist-packages (from yfinance) (2.32.3)\n",
            "Requirement already satisfied: multitasking>=0.0.7 in /usr/local/lib/python3.11/dist-packages (from yfinance) (0.0.11)\n",
            "Requirement already satisfied: platformdirs>=2.0.0 in /usr/local/lib/python3.11/dist-packages (from yfinance) (4.3.7)\n",
            "Requirement already satisfied: pytz>=2022.5 in /usr/local/lib/python3.11/dist-packages (from yfinance) (2025.2)\n",
            "Requirement already satisfied: frozendict>=2.3.4 in /usr/local/lib/python3.11/dist-packages (from yfinance) (2.4.6)\n",
            "Requirement already satisfied: peewee>=3.16.2 in /usr/local/lib/python3.11/dist-packages (from yfinance) (3.18.1)\n",
            "Requirement already satisfied: beautifulsoup4>=4.11.1 in /usr/local/lib/python3.11/dist-packages (from yfinance) (4.13.4)\n",
            "Requirement already satisfied: soupsieve>1.2 in /usr/local/lib/python3.11/dist-packages (from beautifulsoup4>=4.11.1->yfinance) (2.7)\n",
            "Requirement already satisfied: typing-extensions>=4.0.0 in /usr/local/lib/python3.11/dist-packages (from beautifulsoup4>=4.11.1->yfinance) (4.13.2)\n",
            "Requirement already satisfied: python-dateutil>=2.8.2 in /usr/local/lib/python3.11/dist-packages (from pandas>=1.3.0->yfinance) (2.9.0.post0)\n",
            "Requirement already satisfied: tzdata>=2022.7 in /usr/local/lib/python3.11/dist-packages (from pandas>=1.3.0->yfinance) (2025.2)\n",
            "Requirement already satisfied: charset-normalizer<4,>=2 in /usr/local/lib/python3.11/dist-packages (from requests>=2.31->yfinance) (3.4.1)\n",
            "Requirement already satisfied: idna<4,>=2.5 in /usr/local/lib/python3.11/dist-packages (from requests>=2.31->yfinance) (3.10)\n",
            "Requirement already satisfied: urllib3<3,>=1.21.1 in /usr/local/lib/python3.11/dist-packages (from requests>=2.31->yfinance) (2.4.0)\n",
            "Requirement already satisfied: certifi>=2017.4.17 in /usr/local/lib/python3.11/dist-packages (from requests>=2.31->yfinance) (2025.4.26)\n",
            "Requirement already satisfied: six>=1.5 in /usr/local/lib/python3.11/dist-packages (from python-dateutil>=2.8.2->pandas>=1.3.0->yfinance) (1.17.0)\n"
          ]
        }
      ],
      "source": [
        "# Install yfinance\n",
        "!pip install yfinance"
      ]
    },
    {
      "cell_type": "code",
      "execution_count": 6,
      "metadata": {
        "colab": {
          "base_uri": "https://localhost:8080/"
        },
        "id": "nt5QhHdPnzGr",
        "outputId": "a30ee183-1955-4be6-ae08-1ba1c9ed58ab"
      },
      "outputs": [
        {
          "output_type": "stream",
          "name": "stderr",
          "text": [
            "\r[*********************100%***********************]  1 of 1 completed\n",
            "ERROR:yfinance:\n",
            "1 Failed download:\n",
            "ERROR:yfinance:['^GSPC']: YFRateLimitError('Too Many Requests. Rate limited. Try after a while.')\n"
          ]
        },
        {
          "output_type": "stream",
          "name": "stdout",
          "text": [
            "MultiIndex([('Adj Close', '^GSPC'),\n",
            "            (    'Close', '^GSPC'),\n",
            "            (     'High', '^GSPC'),\n",
            "            (      'Low', '^GSPC'),\n",
            "            (     'Open', '^GSPC'),\n",
            "            (   'Volume', '^GSPC')],\n",
            "           names=['Price', 'Ticker'])\n",
            "Empty DataFrame\n",
            "Columns: [^GSPC]\n",
            "Index: []\n",
            "--2025-05-09 18:06:01--  https://github.com/MScFE-Capstone-Project-WorldQuant-Univ/Quantifying_impact_geopoliticalRisk_tradewar_environmentalShock_on_globalFinancial_commodityMarkets/raw/main/sp500_monthly.csv\n",
            "Resolving github.com (github.com)... 140.82.114.3\n",
            "Connecting to github.com (github.com)|140.82.114.3|:443... connected.\n",
            "HTTP request sent, awaiting response... "
          ]
        },
        {
          "output_type": "stream",
          "name": "stderr",
          "text": [
            "<ipython-input-6-f880e8d24075>:26: FutureWarning: 'M' is deprecated and will be removed in a future version, please use 'ME' instead.\n",
            "  sp500_monthly = sp500_prices.resample('M').last()\n"
          ]
        },
        {
          "output_type": "stream",
          "name": "stdout",
          "text": [
            "302 Found\n",
            "Location: https://raw.githubusercontent.com/MScFE-Capstone-Project-WorldQuant-Univ/Quantifying_impact_geopoliticalRisk_tradewar_environmentalShock_on_globalFinancial_commodityMarkets/main/sp500_monthly.csv [following]\n",
            "--2025-05-09 18:06:01--  https://raw.githubusercontent.com/MScFE-Capstone-Project-WorldQuant-Univ/Quantifying_impact_geopoliticalRisk_tradewar_environmentalShock_on_globalFinancial_commodityMarkets/main/sp500_monthly.csv\n",
            "Resolving raw.githubusercontent.com (raw.githubusercontent.com)... 185.199.111.133, 185.199.109.133, 185.199.108.133, ...\n",
            "Connecting to raw.githubusercontent.com (raw.githubusercontent.com)|185.199.111.133|:443... connected.\n",
            "HTTP request sent, awaiting response... 200 OK\n",
            "Length: 11904 (12K) [text/plain]\n",
            "Saving to: ‘sp500_monthly.csv’\n",
            "\n",
            "\rsp500_monthly.csv     0%[                    ]       0  --.-KB/s               \rsp500_monthly.csv   100%[===================>]  11.62K  --.-KB/s    in 0s      \n",
            "\n",
            "2025-05-09 18:06:01 (81.9 MB/s) - ‘sp500_monthly.csv’ saved [11904/11904]\n",
            "\n",
            "         Date       ^GSPC\n",
            "0  1990-01-31  329.079987\n",
            "1  1990-02-28  331.890015\n",
            "2  1990-03-31  339.940002\n",
            "3  1990-04-30  330.799988\n",
            "4  1990-05-31  361.230011\n"
          ]
        }
      ],
      "source": [
        "import yfinance as yf\n",
        "import pandas as pd\n",
        "import time\n",
        "\n",
        "# Define start and end dates\n",
        "start_date = '1990-01-01'\n",
        "end_date = '2024-12-31'\n",
        "try:\n",
        "        # Download daily S&P 500 data from Yahoo Finance\n",
        "        sp500_daily  = yf.download('^GSPC', start=start_date, end=end_date)\n",
        "        time.sleep(2)  # Pause de 2 secondes entre les requêtes\n",
        "except Exception as e:\n",
        "        print(f\"Erreur lors de la récupération des données pour ^GSPC: {e}\")\n",
        "\n",
        "\n",
        "# Check the available columns\n",
        "print(sp500_daily.columns)\n",
        "\n",
        "# Use 'Adj Close' if it exists, otherwise use 'Close'\n",
        "if 'Adj Close' in sp500_daily.columns:\n",
        "    sp500_prices = sp500_daily['Adj Close']\n",
        "else:\n",
        "    sp500_prices = sp500_daily['Close']\n",
        "\n",
        "# Resample to monthly frequency by taking the last available trading day of each month\n",
        "sp500_monthly = sp500_prices.resample('M').last()\n",
        "\n",
        "# Check the data\n",
        "print(sp500_monthly.head())\n",
        "\n",
        "# Save to CSV\n",
        "sp500_monthly.to_csv('sp500_monthly.csv')\n",
        "if len(sp500_monthly)==0 :\n",
        "\n",
        "   !wget -O sp500_monthly.csv 'https://github.com/MScFE-Capstone-Project-WorldQuant-Univ/Quantifying_impact_geopoliticalRisk_tradewar_environmentalShock_on_globalFinancial_commodityMarkets/raw/main/sp500_monthly.csv'\n",
        "   sp500_monthly = pd.read_csv('sp500_monthly.csv')\n",
        "   # Check the data\n",
        "   print(sp500_monthly.head())"
      ]
    },
    {
      "cell_type": "markdown",
      "metadata": {
        "id": "gXMNItvN6Uak"
      },
      "source": [
        "\n",
        "Next, we import our merged dataset from local machine for analysis."
      ]
    },
    {
      "cell_type": "code",
      "execution_count": null,
      "metadata": {
        "id": "-tIvrcuBwXti"
      },
      "outputs": [],
      "source": [
        "from google.colab import files\n",
        "\n",
        "# Upload file from local machine\n",
        "uploaded = files.upload()\n"
      ]
    },
    {
      "cell_type": "code",
      "execution_count": null,
      "metadata": {
        "id": "q0W9ENLxwofH"
      },
      "outputs": [],
      "source": [
        "import pandas as pd\n",
        "\n",
        "# Read uploaded Excel file\n",
        "df_combined = pd.read_excel('Merged Data.xlsx', sheet_name='Merged Data')\n",
        "\n",
        "# Show the first few rows to check\n",
        "df_combined.head()\n"
      ]
    },
    {
      "cell_type": "markdown",
      "metadata": {
        "id": "IsvZVqY26c31"
      },
      "source": [
        "Now that we have imported and read our dataset, we go ahead to conduct the preliminary investigations starting from the summary statistics below."
      ]
    },
    {
      "cell_type": "code",
      "execution_count": null,
      "metadata": {
        "id": "ofozoxfGxUaw"
      },
      "outputs": [],
      "source": [
        "# Summary statistics\n",
        "df_combined.describe()\n"
      ]
    },
    {
      "cell_type": "markdown",
      "metadata": {
        "id": "Ad1YDcO56od5"
      },
      "source": [
        "**Interpretation of Summary Statistics**"
      ]
    },
    {
      "cell_type": "markdown",
      "metadata": {
        "id": "Ew9GFDQ56vEN"
      },
      "source": [
        "Next is to plot histograms of our variables."
      ]
    },
    {
      "cell_type": "code",
      "execution_count": null,
      "metadata": {
        "id": "h-KeseFjyLAl"
      },
      "outputs": [],
      "source": [
        "import matplotlib.pyplot as plt\n",
        "import seaborn as sns\n",
        "\n",
        "# Plotting histograms for key variables\n",
        "df_combined[['S&P 500(^GSPC)', 'WTI', 'GPR', 'TPU', 'CPU', 'WUI']].hist(bins=30, figsize=(12, 8))\n",
        "plt.tight_layout()\n",
        "plt.show()\n"
      ]
    },
    {
      "cell_type": "markdown",
      "metadata": {
        "id": "9RXLoFrIyyXP"
      },
      "source": [
        "Checking the correlation between the variables to understand their relationships. This will help us understand the strength and direction of the relationships between our independent and dependent variables."
      ]
    },
    {
      "cell_type": "code",
      "execution_count": null,
      "metadata": {
        "id": "9jKL9lwnyz3W"
      },
      "outputs": [],
      "source": [
        "# Correlation matrix\n",
        "corr_matrix = df_combined[['S&P 500(^GSPC)', 'WTI', 'GPR', 'TPU', 'CPU', 'WUI']].corr()\n",
        "\n",
        "# Visualize the correlation matrix using a heatmap\n",
        "import seaborn as sns\n",
        "plt.figure(figsize=(10, 6))\n",
        "sns.heatmap(corr_matrix, annot=True, cmap='coolwarm', fmt='.2f', linewidths=0.5)\n",
        "plt.title(\"Correlation Matrix\")\n",
        "plt.show()\n"
      ]
    },
    {
      "cell_type": "markdown",
      "metadata": {
        "id": "pOn6RpIC0j_z"
      },
      "source": [
        "For the trend analysis, we visualize how the variables evolve over time."
      ]
    },
    {
      "cell_type": "code",
      "execution_count": null,
      "metadata": {
        "id": "UkgHVO5ZzZE5"
      },
      "outputs": [],
      "source": [
        "plt.figure(figsize=(12, 6))\n",
        "\n",
        "# Plotting S&P 500, WTI, and GPR over time\n",
        "plt.subplot(3, 1, 1)\n",
        "plt.plot(df_combined['Date'], df_combined['S&P 500(^GSPC)'], label='S&P 500', color='blue')\n",
        "plt.title('S&P 500 Trend')\n",
        "plt.xlabel('Date')\n",
        "plt.ylabel('S&P 500')\n",
        "\n",
        "plt.subplot(3, 1, 2)\n",
        "plt.plot(df_combined['Date'], df_combined['WTI'], label='WTI', color='orange')\n",
        "plt.title('WTI Trend')\n",
        "plt.xlabel('Date')\n",
        "plt.ylabel('WTI')\n",
        "\n",
        "plt.subplot(3, 1, 3)\n",
        "plt.plot(df_combined['Date'], df_combined['GPR'], label='GPR', color='green')\n",
        "plt.title('GPR Trend')\n",
        "plt.xlabel('Date')\n",
        "plt.ylabel('GPR')\n",
        "\n",
        "plt.tight_layout()\n",
        "plt.show()\n"
      ]
    },
    {
      "cell_type": "code",
      "execution_count": null,
      "metadata": {
        "id": "F4dcDF7J1gXp"
      },
      "outputs": [],
      "source": [
        "# Plotting TPU, CPU, and WUI over time\n",
        "plt.subplot(3, 1, 1)\n",
        "plt.plot(df_combined['Date'], df_combined['TPU'], label='TPU', color='blue')\n",
        "plt.title('TPU Trend')\n",
        "plt.xlabel('Date')\n",
        "plt.ylabel('TPU')\n",
        "\n",
        "plt.subplot(3, 1, 2)\n",
        "plt.plot(df_combined['Date'], df_combined['CPU'], label='CPU', color='orange')\n",
        "plt.title('CPU Trend')\n",
        "plt.xlabel('Date')\n",
        "plt.ylabel('CPU')\n",
        "\n",
        "plt.subplot(3, 1, 3)\n",
        "plt.plot(df_combined['Date'], df_combined['WUI'], label='WUI', color='green')\n",
        "plt.title('WUI Trend')\n",
        "plt.xlabel('Date')\n",
        "plt.ylabel('WUI')\n",
        "\n",
        "plt.tight_layout()\n",
        "plt.show()"
      ]
    },
    {
      "cell_type": "code",
      "execution_count": null,
      "metadata": {
        "id": "uJpA7NUf2Wv4"
      },
      "outputs": [],
      "source": [
        "# Prepare the plot\n",
        "plt.figure(figsize=(14, 10))\n",
        "\n",
        "# Plot S&P 500\n",
        "plt.subplot(5, 1, 1)\n",
        "plt.plot(df_combined['Date'], df_combined['S&P 500(^GSPC)'], label='S&P 500', color='blue')\n",
        "plt.title('S&P 500 Trend')\n",
        "plt.xlabel('Date')\n",
        "plt.ylabel('S&P 500')\n",
        "plt.grid(True)\n",
        "plt.xticks(rotation=45)\n",
        "plt.gca().xaxis.set_major_locator(mdates.YearLocator(2))  # X-axis labels every 2 years\n",
        "plt.gca().xaxis.set_major_formatter(mdates.DateFormatter('%Y'))\n",
        "\n",
        "# Annotate events for S&P 500\n",
        "plt.axvline(x=pd.to_datetime('2022-02-01'), color='red', linestyle='--', label='Russia-Ukraine War')\n",
        "plt.annotate('Russia-Ukraine War', xy=(pd.to_datetime('2022-02-01'), 4500), xytext=(pd.to_datetime('2022-02-01'), 4750),\n",
        "             arrowprops=dict(arrowstyle='->', color='red'), fontsize=10, color='red')\n",
        "\n",
        "plt.axvline(x=pd.to_datetime('2020-03-01'), color='orange', linestyle='--', label='COVID-19 Start')\n",
        "plt.annotate('COVID-19 Start', xy=(pd.to_datetime('2020-03-01'), 3000), xytext=(pd.to_datetime('2020-03-01'), 3200),\n",
        "             arrowprops=dict(arrowstyle='->', color='orange'), fontsize=10, color='orange')\n",
        "\n",
        "plt.axvline(x=pd.to_datetime('2018-07-01'), color='green', linestyle='--', label='US-China Trade War')\n",
        "plt.annotate('US-China Trade War', xy=(pd.to_datetime('2018-07-01'), 2700), xytext=(pd.to_datetime('2018-07-01'), 3100),\n",
        "             arrowprops=dict(arrowstyle='->', color='green'), fontsize=10, color='green')\n",
        "\n",
        "plt.axvline(x=pd.to_datetime('2008-09-01'), color='purple', linestyle='--', label='Global Financial Crisis')\n",
        "plt.annotate('Global Financial Crisis', xy=(pd.to_datetime('2008-09-01'), 1200), xytext=(pd.to_datetime('2008-09-01'), 1300),\n",
        "             arrowprops=dict(arrowstyle='->', color='purple'), fontsize=10, color='purple')\n",
        "\n",
        "\n",
        "# Plot WTI\n",
        "plt.subplot(5, 1, 2)\n",
        "plt.plot(df_combined['Date'], df_combined['WTI'], label='WTI', color='green')\n",
        "plt.title('WTI Trend')\n",
        "plt.xlabel('Date')\n",
        "plt.ylabel('WTI Price')\n",
        "plt.grid(True)\n",
        "plt.xticks(rotation=45)\n",
        "plt.gca().xaxis.set_major_locator(mdates.YearLocator(2))\n",
        "plt.gca().xaxis.set_major_formatter(mdates.DateFormatter('%Y'))\n",
        "\n",
        "# Annotate events for WTI\n",
        "plt.axvline(x=pd.to_datetime('2020-03-01'), color='orange', linestyle='--', label='Oil Price Crash')\n",
        "plt.annotate('Oil Price Crash', xy=(pd.to_datetime('2020-03-01'), 30), xytext=(pd.to_datetime('2020-03-01'), 50),\n",
        "             arrowprops=dict(arrowstyle='->', color='orange'), fontsize=10, color='orange')\n",
        "\n",
        "# Plot GPR (Geopolitical Risk)\n",
        "plt.subplot(5, 1, 3)\n",
        "plt.plot(df_combined['Date'], df_combined['GPR'], label='GPR', color='purple')\n",
        "plt.title('Geopolitical Risk (GPR) Trend')\n",
        "plt.xlabel('Date')\n",
        "plt.ylabel('GPR')\n",
        "plt.grid(True)\n",
        "plt.xticks(rotation=45)\n",
        "plt.gca().xaxis.set_major_locator(mdates.YearLocator(2))\n",
        "plt.gca().xaxis.set_major_formatter(mdates.DateFormatter('%Y'))\n",
        "\n",
        "# Plot TPU (Trade Policy Uncertainty)\n",
        "plt.subplot(5, 1, 4)\n",
        "plt.plot(df_combined['Date'], df_combined['TPU'], label='TPU', color='brown')\n",
        "plt.title('Trade Policy Uncertainty (TPU) Trend')\n",
        "plt.xlabel('Date')\n",
        "plt.ylabel('TPU')\n",
        "plt.grid(True)\n",
        "plt.xticks(rotation=45)\n",
        "plt.gca().xaxis.set_major_locator(mdates.YearLocator(2))\n",
        "plt.gca().xaxis.set_major_formatter(mdates.DateFormatter('%Y'))\n",
        "\n",
        "# Plot CPU (Climate Policy Uncertainty)\n",
        "plt.subplot(5, 1, 5)\n",
        "plt.plot(df_combined['Date'], df_combined['CPU'], label='CPU', color='cyan')\n",
        "plt.title('Climate Policy Uncertainty (CPU) Trend')\n",
        "plt.xlabel('Date')\n",
        "plt.ylabel('CPU')\n",
        "plt.grid(True)\n",
        "plt.xticks(rotation=45)\n",
        "plt.gca().xaxis.set_major_locator(mdates.YearLocator(2))\n",
        "plt.gca().xaxis.set_major_formatter(mdates.DateFormatter('%Y'))\n",
        "\n",
        "# Add a tight layout\n",
        "plt.tight_layout()\n",
        "plt.show()\n",
        "\n",
        "\n",
        "\n"
      ]
    },
    {
      "cell_type": "markdown",
      "metadata": {
        "id": "Jsy2gum59Bbn"
      },
      "source": [
        "#Interpretation of the Trend Analysis\n",
        "\n",
        "For S&P 500 Trend Analysis, we annotated the following events.\n",
        "\n",
        "- Global Financial Crisis (2008): This event caused a sharp drop in the S&P 500.\n",
        "\n",
        "- US-China Trade War (2018): Due to this event, we see a slight dip or stagnation in the S&P 500 trend line.\n",
        "\n",
        "- COVID-19 (2020): There is a noticeable impact around this period.We see a drop in the S&P500 line.\n",
        "\n",
        "- Russia-Ukraine War (2022): This event caused some volatility, but market recovered.\n",
        "\n",
        "From the above analysis, we see that the S&P 500 shows long-term growth, there are major dips during periods of financial crises and wars but it is resilient over time.\n",
        "\n",
        "For WTI Oil Price Trend Analysis:\n",
        "\n",
        "The Oil Price Crash event in 2020 was annotated. We see a sudden and sharp fall in oil price, possibly due to COVID-19 lockdowns and decreased demand.\n",
        "\n",
        "This analysis reveals to us that oil prices are volatile, and they are heavily affected by global economic shocks and supply-demand dynamics.\n",
        "\n",
        "For the GPR index which measures geopolitical tensions, we notice some spikes around 1990–1991 (This is the time when Gulf War happened), 2001–2003 (9/11, Iraq War), and 2022 (Russia-Ukraine War)\n",
        "\n",
        "The analysis reveals that GPR spikes during wars or major global tensions, but later returns to a baseline level.\n",
        "\n",
        "For the TPU Index , we notice some sharp rises, one is after 2017 which corresponds with the US-China Trade War.\n",
        "\n",
        "Another is in 2024–2025 may be caused by escalating trade tensions or upcoming elections.\n",
        "\n",
        "Analysis here revealed that there was a surge in TPU during periods of trade disputes and this rose again recently, it tells us that there is a growing global trade tension.\n",
        "\n",
        "For the CPU index, there is a gradual increase from 2000, with steep rises after 2019.\n",
        "\n",
        "Analysis reveals that Climate policy uncertainty has been rising on a steady basis, this shows that political and economic complexities of climate action grows globally.\n",
        "\n"
      ]
    },
    {
      "cell_type": "markdown",
      "metadata": {
        "id": "Z5WW-48ugpKT"
      },
      "source": [
        "Next, we do the Augmented Dickey-Fuller (ADF) test to check for stationarity. This is important to do because of the time series models we will be working on. We want to ensure that they give us accurate results."
      ]
    },
    {
      "cell_type": "code",
      "execution_count": null,
      "metadata": {
        "id": "FbrWDZIl2qel"
      },
      "outputs": [],
      "source": [
        "from statsmodels.tsa.stattools import adfuller\n",
        "\n",
        "# ADF test for stationarity on S&P 500\n",
        "adf_test_sp500 = adfuller(df_combined['S&P 500(^GSPC)'].dropna())\n",
        "print(f\"S&P 500 ADF Test - Statistic: {adf_test_sp500[0]}, p-value: {adf_test_sp500[1]}\")\n",
        "\n",
        "# ADF test for WTI\n",
        "adf_test_wti = adfuller(df_combined['WTI'].dropna())\n",
        "print(f\"WTI ADF Test - Statistic: {adf_test_wti[0]}, p-value: {adf_test_wti[1]}\")\n",
        "\n",
        "# ADF test for GPR\n",
        "adf_test_gpr = adfuller(df_combined['GPR'].dropna())\n",
        "print(f\"GPR ADF Test - Statistic: {adf_test_gpr[0]}, p-value: {adf_test_gpr[1]}\")\n",
        "\n",
        "#ADF test for TPU\n",
        "adf_test_tpu = adfuller(df_combined['TPU'].dropna())\n",
        "print(f\"TPU ADF Test - Statistic: {adf_test_tpu[0]}, p-value: {adf_test_tpu[1]}\")\n",
        "\n",
        "#ADF test for CPU\n",
        "adf_test_cpu = adfuller(df_combined['CPU'].dropna())\n",
        "print(f\"CPU ADF Test - Statistic: {adf_test_cpu[0]}, p-value: {adf_test_cpu[1]}\")\n",
        "\n",
        "#ADF test for WUI\n",
        "adf_test_wui = adfuller(df_combined['WUI'].dropna())\n",
        "print(f\"WUI ADF Test - Statistic: {adf_test_wui[0]}, p-value: {adf_test_wui[1]}\")\n"
      ]
    },
    {
      "cell_type": "markdown",
      "metadata": {
        "id": "YBGD3p3LvZB_"
      },
      "source": [
        "From these results, all time series data are non-stationary except the GPR index. We have to transform the non-stationary data to stationary ones in order to have accurate results for our analysis."
      ]
    },
    {
      "cell_type": "code",
      "execution_count": null,
      "metadata": {
        "id": "ArlWALsHvtA2"
      },
      "outputs": [],
      "source": [
        "# Log returns for S&P500 and WTI\n",
        "# Log returns: ln(P_t / P_t-1)\n",
        "sp500_returns = np.log(sp500_monthly / sp500_monthly.shift(1)).dropna()\n",
        "wti_returns = np.log(wti_monthly / wti_monthly.shift(1)).dropna()\n",
        "\n",
        "# --- FIRST DIFFERENCE FOR TPU, CPU, WUI ---\n",
        "tpu_diff = df_combined['TPU'].diff().dropna()\n",
        "cpu_diff = df_combined['CPU'].diff().dropna()\n",
        "wui_diff = df_combined['WUI'].diff().dropna()"
      ]
    },
    {
      "cell_type": "markdown",
      "metadata": {
        "id": "UxCsupHWx3pK"
      },
      "source": [
        "Now, let us rerun our ADF tests"
      ]
    },
    {
      "cell_type": "code",
      "execution_count": null,
      "metadata": {
        "id": "Go7G4lSsx6mp"
      },
      "outputs": [],
      "source": [
        "from statsmodels.tsa.stattools import adfuller\n",
        "\n",
        "def adf_test(series, name):\n",
        "    result = adfuller(series.dropna())\n",
        "    stat, pval = result[0], result[1]\n",
        "    print(f\"{name} ADF Test - Statistic: {stat:.4f}, p-value: {pval:.4f}\")\n",
        "    if pval <= 0.05:\n",
        "        print(\"✅ Stationary (reject H₀)\\n\")\n",
        "    else:\n",
        "        print(\"❌ Non-stationary (fail to reject H₀)\\n\")\n",
        "\n",
        "# Apply tests to our transformed series\n",
        "adf_test(sp500_returns, \"S&P 500 Returns\")\n",
        "adf_test(wti_returns, \"WTI Returns\")\n",
        "adf_test(tpu_diff, \"TPU (First Difference)\")\n",
        "adf_test(cpu_diff, \"CPU (First Difference)\")\n",
        "adf_test(wui_diff, \"WUI (First Difference)\")\n"
      ]
    },
    {
      "cell_type": "markdown",
      "metadata": {
        "id": "lk5ZUFBly8c_"
      },
      "source": [
        "After appropriate transformations, we have achieved stationarity for all series except TPU, it remains non stationary even after first differencing. We will apply second differencing to it and test again."
      ]
    },
    {
      "cell_type": "code",
      "execution_count": null,
      "metadata": {
        "id": "cKn8ehlCzPWK"
      },
      "outputs": [],
      "source": [
        "tpu_2diff = df_combined['TPU'].diff().dropna().diff().dropna()\n",
        "adf_test(tpu_2diff, \"TPU (Second Difference)\")\n"
      ]
    },
    {
      "cell_type": "code",
      "execution_count": null,
      "metadata": {
        "id": "axSfVp6N4Lqz"
      },
      "outputs": [],
      "source": []
    }
  ],
  "metadata": {
    "colab": {
      "provenance": [],
      "include_colab_link": true
    },
    "kernelspec": {
      "display_name": "Python 3",
      "name": "python3"
    },
    "language_info": {
      "name": "python"
    }
  },
  "nbformat": 4,
  "nbformat_minor": 0
}